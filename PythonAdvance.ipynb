{
 "cells": [
  {
   "cell_type": "markdown",
   "metadata": {},
   "source": [
    "## Object-Oriented Programming (OOP):\n",
    "\n",
    "#### Classes and Objects\n",
    "Class: A blueprint for creating objects. It defines properties (attributes) and behaviors (methods).  \n",
    "Object: An instance of a class. It holds data and can perform actions defined in the class.\n",
    "#### Syntax\n",
    "class ClassName:  \n",
    "    # Class Attribute  \n",
    "    class_attribute = \"I am a class attribute\"\n",
    "\n",
    "    # Constructor Method\n",
    "    def __init__(self, attribute1, attribute2):\n",
    "        # Instance Attributes\n",
    "        self.attribute1 = attribute1\n",
    "        self.attribute2 = attribute2\n",
    "\n",
    "    # Method\n",
    "    def display(self):\n",
    "        print(f\"Attribute 1: {self.attribute1}, Attribute 2: {self.attribute2}\")\n",
    "\n",
    "#### Creating an object of the class\n",
    "obj = ClassName(\"Value 1\", \"Value 2\")"
   ]
  },
  {
   "cell_type": "code",
   "execution_count": 1,
   "metadata": {},
   "outputs": [
    {
     "name": "stdout",
     "output_type": "stream",
     "text": [
      "Car: Toyota Corolla, Year: 2020\n",
      "Car: Honda Civic, Year: 2018\n"
     ]
    }
   ],
   "source": [
    "# Exercise\n",
    "class Car:\n",
    "    # Constructor Method\n",
    "    def __init__(self, make, model, year):\n",
    "        # Instance Attributes\n",
    "        self.make = make\n",
    "        self.model = model\n",
    "        self.year = year\n",
    "    # Method\n",
    "    def display_car_info(self):\n",
    "        print(f\"Car: {self.make} {self.model}, Year: {self.year}\")\n",
    "\n",
    "# Creating an object of the Car class\n",
    "car1 = Car(\"Toyota\", \"Corolla\", 2020)\n",
    "car2 = Car(\"Honda\", \"Civic\", 2018)\n",
    "\n",
    "# Accessing Car Information\n",
    "car1.display_car_info()\n",
    "car2.display_car_info()"
   ]
  },
  {
   "cell_type": "markdown",
   "metadata": {},
   "source": [
    "#### Inheritance\n",
    "Inheritance allows a class to inherit attributes and methods from another class. This helps to reuse code and create a hierarchy of classes.  \n",
    "\n",
    "1- Parent Class (Base Class): The class whose properties and methods are inherited.  \n",
    "2- Child Class (Derived Class): The class that inherits from the parent class.  \n",
    "\n",
    "#### Types of Inheritance in Python:\n",
    "1- Single Inheritance: Child class inherits from one parent class.  \n",
    "2- Multiple Inheritance: Child class inherits from multiple parent classes.  \n",
    "3- Multilevel Inheritance: A class is derived from a class which is also derived from another class.  \n",
    "4- Hierarchical Inheritance: Multiple child classes inherit from the same parent class.  \n",
    "5- Hybrid Inheritance: Combination of multiple types of inheritance.  \n",
    "\n",
    "#### Syntax\n",
    "Parent Class\n",
    "\n",
    "class ParentClass:  \n",
    "    def parent_method(self):  \n",
    "        print(\"This is a method from Parent Class.\")  \n",
    "\n",
    "Child Class inheriting Parent Class\n",
    "  \n",
    "class ChildClass(ParentClass):  \n",
    "    def child_method(self):  \n",
    "        print(\"This is a method from Child Class.\")  "
   ]
  },
  {
   "cell_type": "code",
   "execution_count": 2,
   "metadata": {},
   "outputs": [
    {
     "name": "stdout",
     "output_type": "stream",
     "text": [
      "Vehicle: Toyota Corolla\n",
      "Car: Toyota Corolla, Year: 2020\n"
     ]
    }
   ],
   "source": [
    "# Exercise\n",
    "\n",
    "# Parent Class\n",
    "class vehicle:\n",
    "    def __init__(self, brand, model):\n",
    "        self.brand = brand\n",
    "        self.model = model\n",
    "    def display_info(self):\n",
    "        print(f\"Vehicle: {self.brand} {self.model}\")\n",
    "\n",
    "# Child Class inheriting from Vehicle\n",
    "class Car(vehicle):\n",
    "    def __init__(self, brand, model, year):\n",
    "        super().__init__(brand, model)\n",
    "        self.year = year\n",
    "\n",
    "    def display_car_info(self):\n",
    "        print(f\"Car: {self.brand} {self.model}, Year: {self.year}\")\n",
    "\n",
    "# Creating an Object of Child Class\n",
    "\n",
    "car1 = Car(\"Toyota\", \"Corolla\", 2020)\n",
    "car1.display_info()  # Method from Parent Class\n",
    "car1.display_car_info()  # Method from Child Class"
   ]
  },
  {
   "cell_type": "markdown",
   "metadata": {},
   "source": [
    "#### Polymorphism\n",
    "Polymorphism allows methods to have the same name but behave differently depending on the object calling them. This is especially useful when you have multiple classes related by inheritance.  \n",
    "\n",
    "1- Method Overriding: Redefining a method in the child class that already exists in the parent class.  \n",
    "2- Method Overloading: Not directly supported in Python, but can be achieved using default arguments or variable-length arguments.  \n",
    "3- Operator Overloading: Using magic methods to change the behavior of operators for user-defined objects.  "
   ]
  },
  {
   "cell_type": "code",
   "execution_count": 4,
   "metadata": {},
   "outputs": [
    {
     "name": "stdout",
     "output_type": "stream",
     "text": [
      "Animal makes a sound.\n",
      "Dog barks.\n",
      "Cat meows.\n"
     ]
    }
   ],
   "source": [
    "# Method Overriding\n",
    "\n",
    "# Parent Class\n",
    "class Animal:\n",
    "    def sound(self):\n",
    "        print(\"Animal makes a sound.\")\n",
    "\n",
    "# Child Class 1\n",
    "\n",
    "class Dog(Animal):\n",
    "    def sound(self):\n",
    "        print(\"Dog barks.\")\n",
    "\n",
    "# Child Class 2\n",
    "\n",
    "class Cat(Animal):\n",
    "    def sound(self):\n",
    "        print(\"Cat meows.\")\n",
    "\n",
    "# Creating objects of child classes\n",
    "animal = Animal()\n",
    "dog = Dog()\n",
    "cat = Cat()\n",
    "\n",
    "# Calling overridden method\n",
    "\n",
    "animal.sound()  # Output: Animal makes a sound.\n",
    "dog.sound()  # Output: Dog barks.\n",
    "cat.sound()  # Output: Cat meows."
   ]
  },
  {
   "cell_type": "markdown",
   "metadata": {},
   "source": [
    "#### Encapsulation\n",
    "Encapsulation is the practice of wrapping data (attributes) and methods (functions) that operate on the data into a single unit, i.e., a class. It also restricts direct access to some of an object's components, which is a way of preventing accidental interference and misuse of data.  \n",
    "\n",
    "1- Private Members: Defined using double underscores (__). Not accessible outside the class.  \n",
    "2- Protected Members: Defined using a single underscore (_). Can be accessed within the class and its subclasses but not directly from outside.  \n",
    "3- Public Members: No underscore. Accessible from anywhere.  \n",
    "\n",
    "#### Why Use Encapsulation?\n",
    "1- Data Protection: Prevents direct modification of attributes.  \n",
    "2- Controlled Access: Allows controlled access using getter and setter methods.  \n",
    "3- Flexibility and Maintainability: Changes to implementation can be made without affecting outside code.  \n"
   ]
  },
  {
   "cell_type": "code",
   "execution_count": null,
   "metadata": {},
   "outputs": [],
   "source": [
    "# Exercise\n",
    "class BankAccount:\n",
    "    def __init__(self, owner, balance):\n",
    "        self.__owner = owner  # Public attribute\n",
    "        self.__balance = balance  # Private attribute\n",
    "\n",
    "    # Public Method\n",
    "    def display_owner(self):\n",
    "        "
   ]
  }
 ],
 "metadata": {
  "kernelspec": {
   "display_name": "Python 3",
   "language": "python",
   "name": "python3"
  },
  "language_info": {
   "codemirror_mode": {
    "name": "ipython",
    "version": 3
   },
   "file_extension": ".py",
   "mimetype": "text/x-python",
   "name": "python",
   "nbconvert_exporter": "python",
   "pygments_lexer": "ipython3",
   "version": "3.13.2"
  }
 },
 "nbformat": 4,
 "nbformat_minor": 2
}
