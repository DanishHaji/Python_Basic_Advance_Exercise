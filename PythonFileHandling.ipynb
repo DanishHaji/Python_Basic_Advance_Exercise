{
 "cells": [
  {
   "cell_type": "markdown",
   "metadata": {},
   "source": [
    "#### What is File Handling?\n",
    "File Handling in Python enables you to work with files to perform operations like:\n",
    "\n",
    "1- Reading data from a file.  \n",
    "2- Writing data to a file.  \n",
    "3- Appending data to the end of a file.  \n",
    "4- Closing a file after operations to free system resources.  \n",
    "\n",
    "#### File Opening Modes\n",
    "In Python, files can be opened in different modes:\n",
    "\n",
    "r – Read mode (default). Opens a file for reading.  \n",
    "w – Write mode. Creates a new file or overwrites existing content.  \n",
    "a – Append mode. Adds data to the end of the file without overwriting.  \n",
    "r+ – Read and write mode. Reads and writes to the file.  \n",
    "w+ – Write and read mode. Overwrites existing content.  \n",
    "a+ – Append and read mode. Adds data to the end and allows reading.  \n",
    "\n",
    "#### Basic File Operations\n",
    "1- Opening a File: Using open() function.  \n",
    "2- Reading a File: Using read(), readline(), or readlines() methods.  \n",
    "3- Writing to a File: Using write() or writelines() methods.  \n",
    "4- Closing a File: Using close() method to free system resources.  \n"
   ]
  }
 ],
 "metadata": {
  "language_info": {
   "name": "python"
  }
 },
 "nbformat": 4,
 "nbformat_minor": 2
}
