{
 "cells": [
  {
   "cell_type": "markdown",
   "metadata": {},
   "source": [
    "#### What is File Handling?\n",
    "File Handling in Python enables you to work with files to perform operations like:\n",
    "\n",
    "1- Reading data from a file.  \n",
    "2- Writing data to a file.  \n",
    "3- Appending data to the end of a file.  \n",
    "4- Closing a file after operations to free system resources.  \n",
    "\n",
    "#### File Opening Modes\n",
    "In Python, files can be opened in different modes:\n",
    "\n",
    "r – Read mode (default). Opens a file for reading.  \n",
    "w – Write mode. Creates a new file or overwrites existing content.  \n",
    "a – Append mode. Adds data to the end of the file without overwriting.  \n",
    "r+ – Read and write mode. Reads and writes to the file.  \n",
    "w+ – Write and read mode. Overwrites existing content.  \n",
    "a+ – Append and read mode. Adds data to the end and allows reading.  \n",
    "\n",
    "#### Basic File Operations\n",
    "1- Opening a File: Using open() function.  \n",
    "2- Reading a File: Using read(), readline(), or readlines() methods.  \n",
    "3- Writing to a File: Using write() or writelines() methods.  \n",
    "4- Closing a File: Using close() method to free system resources.  \n"
   ]
  },
  {
   "cell_type": "code",
   "execution_count": null,
   "metadata": {},
   "outputs": [],
   "source": [
    "# Exercise (Reading from a File)\n",
    "\n",
    "# Open the file in read mode\n",
    "file = open(\"example.txt\", \"r\")\n",
    "\n",
    "# Read the entire content of the file\n",
    "content = file.read()\n",
    "print(content)\n",
    "\n",
    "# Close the file\n",
    "file.close()"
   ]
  },
  {
   "cell_type": "code",
   "execution_count": null,
   "metadata": {},
   "outputs": [],
   "source": [
    "# Exercise readline()  \n",
    "\n",
    "#using readline()\n",
    "file = open(\"example.txt\", \"r\")\n",
    "line = file.readline()\n",
    "while line:\n",
    "    print(line, end='') # end='' to avoid double new lines\n",
    "    line = file.readline()\n",
    "file.close()"
   ]
  },
  {
   "cell_type": "code",
   "execution_count": null,
   "metadata": {},
   "outputs": [],
   "source": [
    "# Exercise (Writing to a file)\n",
    "\n",
    "# Open the file in write mode\n",
    "file = open(\"example.txt\", \"w\")\n",
    "\n",
    "# Write data to the file\n",
    "file.write(\"hello world!\\n\")\n",
    "file.write(\"This is a new line.\\n\") \n",
    "\n",
    "# Close the file\n",
    "file.close()"
   ]
  },
  {
   "cell_type": "code",
   "execution_count": null,
   "metadata": {},
   "outputs": [],
   "source": [
    "# Exercise (Appending to a File) \n",
    "\n",
    "# Open the file in append mode\n",
    "file = open(\"example.txt\", \"a\")\n",
    "\n",
    "# Write data to the file\n",
    "file.write(\"This line is appended.\\n\")\n",
    "\n",
    "# Close the file\n",
    "file.close()"
   ]
  },
  {
   "cell_type": "markdown",
   "metadata": {},
   "source": [
    "#### Using with Statement\n",
    "\n",
    "Using with is the preferred way to work with files because it automatically closes the file, even if an error occurs.  "
   ]
  },
  {
   "cell_type": "code",
   "execution_count": null,
   "metadata": {},
   "outputs": [],
   "source": [
    "# Exercise \n",
    "\n",
    "# using with statement to read the file\n",
    "\n",
    "with open(\"example.txt\", \"r\") as file:\n",
    "    content = file.read()\n",
    "    print(content)\n",
    "\n",
    "# using with statement to write to the file\n",
    "\n",
    "with open(\"example.txt\", \"w\") as file:\n",
    "    file.write(\"hello world!\\n\")\n",
    "    file.write(\"This is a new line.\\n\")"
   ]
  },
  {
   "cell_type": "markdown",
   "metadata": {},
   "source": [
    "#### What is Exception Handling?\n",
    "Exception Handling is a mechanism to handle runtime errors in your program, such as:  \n",
    "\n",
    "1- Division by zero (ZeroDivisionError)  \n",
    "2- Invalid input (ValueError)  \n",
    "3- File not found (FileNotFoundError)  \n",
    "4- Index out of range (IndexError)  \n",
    "\n",
    "Python uses try, except, else, and finally blocks to handle exceptions.  \n",
    "\n",
    "#### Why Use Exception Handling?\n",
    "Prevents Program Crashes: Catches errors and prevents abrupt terminations.  \n",
    "Graceful Error Messages: Provides user-friendly error messages.  \n",
    "Ensures Program Flow: Maintains the flow of the program even after an error occurs.  \n",
    "\n",
    "#### Basic Syntax\n",
    "\n",
    "try:  \n",
    "    # Code that might cause an exception  \n",
    "except ExceptionType:  \n",
    "    # Code to handle the exception  \n",
    "else:  \n",
    "    # Code to run if no exception occurs  \n",
    "finally:  \n",
    "    # Code that always runs, regardless of exception  \n"
   ]
  },
  {
   "cell_type": "code",
   "execution_count": null,
   "metadata": {},
   "outputs": [],
   "source": [
    "# Exercise\n",
    "\n",
    "try:\n",
    "    num1 = int(input(\"Enter the numerator: \"))\n",
    "    num2 = int(input(\"Enter the denominator: \"))\n",
    "    result = num1 / num2\n",
    "    print(f\"The result is: {result}\")\n",
    "except ZeroDivisionError:\n",
    "    print(\"Error: Division by zero is not allowed.\")\n",
    "except ValueError:\n",
    "    print(\"Error: Invalid input. Please enter integers.\")\n",
    "else:\n",
    "    print(\"Program executed successfully.\")\n",
    "finally:\n",
    "    print(\"Goodbye!\")"
   ]
  }
 ],
 "metadata": {
  "language_info": {
   "name": "python"
  }
 },
 "nbformat": 4,
 "nbformat_minor": 2
}
