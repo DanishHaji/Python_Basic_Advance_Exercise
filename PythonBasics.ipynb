{
 "cells": [
  {
   "cell_type": "markdown",
   "metadata": {},
   "source": [
    "#### 1. Printing Output\n",
    "#### Syntax\n",
    "print(\"Your Text\")  \n",
    "print(variable_name)"
   ]
  },
  {
   "cell_type": "code",
   "execution_count": 5,
   "metadata": {},
   "outputs": [
    {
     "name": "stdout",
     "output_type": "stream",
     "text": [
      "Hello, Python!\n",
      "My name is Danish\n"
     ]
    }
   ],
   "source": [
    "# Exercise \n",
    "print(\"Hello, Python!\")\n",
    "name = \"Danish\"\n",
    "print(\"My name is\", name) "
   ]
  },
  {
   "cell_type": "markdown",
   "metadata": {},
   "source": [
    "#### 2. Variables and Data Types\n",
    "#### Syntax\n",
    "integer_variable = 10  \n",
    "float_variable = 5.5  \n",
    "string_variable = \"Hello\"  \n",
    "boolean_variable = True"
   ]
  },
  {
   "cell_type": "code",
   "execution_count": 8,
   "metadata": {},
   "outputs": [
    {
     "name": "stdout",
     "output_type": "stream",
     "text": [
      "30\n",
      "19.99\n",
      "welcome to Python!\n",
      "False\n"
     ]
    }
   ],
   "source": [
    "# Exercise\n",
    "age = 30\n",
    "price = 19.99\n",
    "greetings  = \"welcome to Python!\"\n",
    "is_active = False\n",
    "\n",
    "print(age)\n",
    "print(price)\n",
    "print(greetings)\n",
    "print(is_active)"
   ]
  },
  {
   "cell_type": "markdown",
   "metadata": {},
   "source": [
    "#### 3. Basic Arithmetic Operations\n",
    "Addition, Subtraction, Multiplication, Division, Modulus\n",
    "#### Syntax:\n",
    "result = num1 + num2  \n",
    "result = num1 - num2  \n",
    "result = num1 * num2  \n",
    "result = num1 / num2  \n",
    "result = num1 % num2"
   ]
  },
  {
   "cell_type": "code",
   "execution_count": 9,
   "metadata": {},
   "outputs": [
    {
     "name": "stdout",
     "output_type": "stream",
     "text": [
      "Sum: 19\n",
      "Subtraction: 11\n",
      "Multiplication: 60\n",
      "Division: 3.75\n",
      "Modulus: 3\n"
     ]
    }
   ],
   "source": [
    "# Exercise\n",
    "a = 15\n",
    "b = 4\n",
    "print(\"Sum:\", a + b)\n",
    "print(\"Subtraction:\", a - b)\n",
    "print(\"Multiplication:\", a * b)\n",
    "print(\"Division:\", a / b)\n",
    "print(\"Modulus:\", a % b)"
   ]
  },
  {
   "cell_type": "markdown",
   "metadata": {},
   "source": [
    "#### 4. Taking User Input\n",
    "#### Syntax:\n",
    "variable = input(\"Prompt Message\")"
   ]
  },
  {
   "cell_type": "code",
   "execution_count": 10,
   "metadata": {},
   "outputs": [
    {
     "name": "stdout",
     "output_type": "stream",
     "text": [
      "hello danish You are 30 years old.\n"
     ]
    }
   ],
   "source": [
    "# Exercise\n",
    "name = input(\"Enter your name:\")\n",
    "age = int(input(\"Enter your age: \")) # Type casting to integer\n",
    "print(\"hello\", name, \"You are\", age, \"years old.\")"
   ]
  },
  {
   "cell_type": "markdown",
   "metadata": {},
   "source": [
    "#### 5. Conditional Statements\n",
    "if, elif, else\n",
    "#### Syntax:\n",
    "if condition:  \n",
    "    # code block  \n",
    "elif another_condition:  \n",
    "    # code block  \n",
    "else:  \n",
    "    # code block  "
   ]
  },
  {
   "cell_type": "code",
   "execution_count": 11,
   "metadata": {},
   "outputs": [
    {
     "name": "stdout",
     "output_type": "stream",
     "text": [
      "Number is positive.\n"
     ]
    }
   ],
   "source": [
    "# Exercise\n",
    "num = int(input(\"Enter a number: \"))\n",
    "if num > 0:\n",
    "    print(\"Number is positive.\")\n",
    "elif num < 0:\n",
    "    print(\"Number is negative.\")\n",
    "else:\n",
    "    print(\"Number is zero.\")"
   ]
  },
  {
   "cell_type": "markdown",
   "metadata": {},
   "source": [
    "#### 6. Loops\n",
    "for Loop\n",
    "#### Syntax:\n",
    "for variable in range(start, end, step):  \n",
    "    # code block"
   ]
  },
  {
   "cell_type": "code",
   "execution_count": 12,
   "metadata": {},
   "outputs": [
    {
     "name": "stdout",
     "output_type": "stream",
     "text": [
      "Count 1\n",
      "Count 2\n",
      "Count 3\n",
      "Count 4\n",
      "Count 5\n"
     ]
    }
   ],
   "source": [
    "# Exercise\n",
    "for i in range(1, 6):\n",
    "    print(\"Count\", i)"
   ]
  },
  {
   "cell_type": "markdown",
   "metadata": {},
   "source": [
    "while Loop\n",
    "#### Syntax:\n",
    "while condition:  \n",
    "    # code block"
   ]
  },
  {
   "cell_type": "code",
   "execution_count": 13,
   "metadata": {},
   "outputs": [
    {
     "name": "stdout",
     "output_type": "stream",
     "text": [
      "Count 2\n",
      "Count 3\n",
      "Count 4\n",
      "Count 5\n"
     ]
    }
   ],
   "source": [
    "count = 2\n",
    "while count <= 5:\n",
    "    print(\"Count\", count)\n",
    "    count += 1"
   ]
  },
  {
   "cell_type": "markdown",
   "metadata": {},
   "source": [
    "#### 7. Functions\n",
    "#### Syntax:  \n",
    "def function_name(parameters):  \n",
    "    # code block  \n",
    "    return value  "
   ]
  },
  {
   "cell_type": "code",
   "execution_count": 14,
   "metadata": {},
   "outputs": [
    {
     "name": "stdout",
     "output_type": "stream",
     "text": [
      "Hello Danish\n"
     ]
    }
   ],
   "source": [
    "# Exercise\n",
    "def greet(name):\n",
    "    return \"Hello \" + name\n",
    "message = greet(\"Danish\")\n",
    "print(message)"
   ]
  },
  {
   "cell_type": "markdown",
   "metadata": {},
   "source": [
    "#### 8. Lists\n",
    "Collection of items, ordered and changeable\n",
    "#### Syntax:  \n",
    "   list_name = [item1, item2, item3]"
   ]
  },
  {
   "cell_type": "code",
   "execution_count": 15,
   "metadata": {},
   "outputs": [
    {
     "name": "stdout",
     "output_type": "stream",
     "text": [
      "['Apple', 'Banana', 'Cherry']\n",
      "['Apple', 'Banana', 'Cherry', 'orange']\n"
     ]
    }
   ],
   "source": [
    "fruits = [\"Apple\", \"Banana\", \"Cherry\"]\n",
    "print(fruits)\n",
    "fruits.append(\"orange\")\n",
    "print(fruits)"
   ]
  },
  {
   "cell_type": "markdown",
   "metadata": {},
   "source": [
    "#### 9. Tuples\n",
    "Ordered and unchangeable\n",
    "#### Syntax:\n",
    "tuple_name = (item1, item2, item3)"
   ]
  },
  {
   "cell_type": "code",
   "execution_count": 16,
   "metadata": {},
   "outputs": [
    {
     "name": "stdout",
     "output_type": "stream",
     "text": [
      "['red', 'green', 'blue']\n"
     ]
    }
   ],
   "source": [
    "colors = [\"red\", \"green\", \"blue\"]\n",
    "print(colors)"
   ]
  },
  {
   "cell_type": "markdown",
   "metadata": {},
   "source": [
    "#### 10. Dictionaries\n",
    "Key-value pairs, unordered, changeable\n",
    "#### Syntax:\n",
    "dict_name = {\n",
    "    \"key1\": \"value1\",\n",
    "    \"key2\": \"value2\"\n",
    "}"
   ]
  },
  {
   "cell_type": "code",
   "execution_count": 19,
   "metadata": {},
   "outputs": [
    {
     "name": "stdout",
     "output_type": "stream",
     "text": [
      "Danish\n",
      "30\n",
      "Python\n"
     ]
    }
   ],
   "source": [
    "# Exercise\n",
    "student = {\n",
    "    \"name\": \"Danish\",\n",
    "    \"age\": 30,\n",
    "    \"course\": \"Python\"\n",
    "}\n",
    "print(student[\"name\"])\n",
    "print(student[\"age\"])\n",
    "print(student[\"course\"])\n"
   ]
  }
 ],
 "metadata": {
  "kernelspec": {
   "display_name": "Python 3",
   "language": "python",
   "name": "python3"
  },
  "language_info": {
   "codemirror_mode": {
    "name": "ipython",
    "version": 3
   },
   "file_extension": ".py",
   "mimetype": "text/x-python",
   "name": "python",
   "nbconvert_exporter": "python",
   "pygments_lexer": "ipython3",
   "version": "3.13.2"
  }
 },
 "nbformat": 4,
 "nbformat_minor": 2
}
